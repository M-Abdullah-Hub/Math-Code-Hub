{
 "cells": [
  {
   "cell_type": "code",
   "execution_count": 1,
   "id": "22cde09b",
   "metadata": {},
   "outputs": [],
   "source": [
    "import math "
   ]
  },
  {
   "cell_type": "code",
   "execution_count": 2,
   "id": "42b1f690",
   "metadata": {},
   "outputs": [],
   "source": [
    "Q=10\n",
    "W=4.6\n",
    "E=7.9"
   ]
  },
  {
   "cell_type": "code",
   "execution_count": 3,
   "id": "6fa5de50",
   "metadata": {},
   "outputs": [
    {
     "data": {
      "text/plain": [
       "5"
      ]
     },
     "execution_count": 3,
     "metadata": {},
     "output_type": "execute_result"
    }
   ],
   "source": [
    "math.ceil(W) # ceiling of a variable , Output will be 5"
   ]
  },
  {
   "cell_type": "code",
   "execution_count": 4,
   "id": "a63fc833",
   "metadata": {},
   "outputs": [
    {
     "data": {
      "text/plain": [
       "7"
      ]
     },
     "execution_count": 4,
     "metadata": {},
     "output_type": "execute_result"
    }
   ],
   "source": [
    "math.trunc(E) # Delete Decimal value after point"
   ]
  },
  {
   "cell_type": "code",
   "execution_count": 5,
   "id": "69f66406",
   "metadata": {},
   "outputs": [
    {
     "data": {
      "text/plain": [
       "3628800"
      ]
     },
     "execution_count": 5,
     "metadata": {},
     "output_type": "execute_result"
    }
   ],
   "source": [
    "math.factorial(Q)"
   ]
  },
  {
   "cell_type": "code",
   "execution_count": 6,
   "id": "b9f4c041",
   "metadata": {},
   "outputs": [
    {
     "data": {
      "text/plain": [
       "3628800"
      ]
     },
     "execution_count": 6,
     "metadata": {},
     "output_type": "execute_result"
    }
   ],
   "source": [
    "ten=10*9*8*7*6*5*4*3*2*1\n",
    "ten"
   ]
  },
  {
   "cell_type": "code",
   "execution_count": 7,
   "id": "a1a04ac3",
   "metadata": {},
   "outputs": [
    {
     "data": {
      "text/plain": [
       "3.1622776601683795"
      ]
     },
     "execution_count": 7,
     "metadata": {},
     "output_type": "execute_result"
    }
   ],
   "source": [
    "math.sqrt(Q) # Square Root"
   ]
  },
  {
   "cell_type": "code",
   "execution_count": 8,
   "id": "3c37b54b",
   "metadata": {},
   "outputs": [
    {
     "data": {
      "text/plain": [
       "0.3511492911928896"
      ]
     },
     "execution_count": 8,
     "metadata": {},
     "output_type": "execute_result"
    }
   ],
   "source": [
    "import random\n",
    "random.random()"
   ]
  },
  {
   "cell_type": "code",
   "execution_count": 9,
   "id": "31b614ef",
   "metadata": {},
   "outputs": [
    {
     "data": {
      "text/plain": [
       "0.9560342718892494"
      ]
     },
     "execution_count": 9,
     "metadata": {},
     "output_type": "execute_result"
    }
   ],
   "source": [
    "random.seed(2)\n",
    "random.random()"
   ]
  },
  {
   "cell_type": "code",
   "execution_count": 10,
   "id": "5a66a784",
   "metadata": {},
   "outputs": [
    {
     "data": {
      "text/plain": [
       "[198, 256]"
      ]
     },
     "execution_count": 10,
     "metadata": {},
     "output_type": "execute_result"
    }
   ],
   "source": [
    "List=[198,256,332,442,509,9,878,527,610,568]\n",
    "k=2\n",
    "random.sample(List,k)"
   ]
  },
  {
   "cell_type": "code",
   "execution_count": null,
   "id": "6352805f",
   "metadata": {},
   "outputs": [],
   "source": []
  }
 ],
 "metadata": {
  "kernelspec": {
   "display_name": "Python 3 (ipykernel)",
   "language": "python",
   "name": "python3"
  },
  "language_info": {
   "codemirror_mode": {
    "name": "ipython",
    "version": 3
   },
   "file_extension": ".py",
   "mimetype": "text/x-python",
   "name": "python",
   "nbconvert_exporter": "python",
   "pygments_lexer": "ipython3",
   "version": "3.11.4"
  }
 },
 "nbformat": 4,
 "nbformat_minor": 5
}
